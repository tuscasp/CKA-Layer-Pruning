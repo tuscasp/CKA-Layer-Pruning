{
 "cells": [
  {
   "cell_type": "code",
   "execution_count": null,
   "metadata": {},
   "outputs": [],
   "source": [
    "import tensorflow as tf\n",
    "import numpy as np"
   ]
  },
  {
   "cell_type": "markdown",
   "metadata": {},
   "source": [
    "# Computing CKA"
   ]
  },
  {
   "cell_type": "code",
   "execution_count": null,
   "metadata": {},
   "outputs": [],
   "source": [
    "randgen = np.random.default_rng(seed=0)\n",
    "randgen.choice(np.arange(100),10)\n"
   ]
  },
  {
   "cell_type": "code",
   "execution_count": null,
   "metadata": {},
   "outputs": [],
   "source": [
    "sample_features_x = np.random.random([10000,16384])\n",
    "sample_features_y = np.random.random([10000,16384])"
   ]
  },
  {
   "cell_type": "code",
   "execution_count": null,
   "metadata": {},
   "outputs": [],
   "source": [
    "def feature_space_linear_cka(features_x, features_y):\n",
    "    features_x = features_x - np.mean(features_x, 0, keepdims=True)\n",
    "    features_y = features_y - np.mean(features_y, 0, keepdims=True)\n",
    "\n",
    "    dot_product_similarity = np.linalg.norm(features_x.T.dot(features_y)) ** 2\n",
    "    normalization_x = np.linalg.norm(features_x.T.dot(features_x))\n",
    "    normalization_y = np.linalg.norm(features_y.T.dot(features_y))\n",
    "\n",
    "    return dot_product_similarity / (normalization_x * normalization_y)\n",
    "\n",
    "print(feature_space_linear_cka(sample_features_x, sample_features_y))\n"
   ]
  },
  {
   "cell_type": "code",
   "execution_count": null,
   "metadata": {},
   "outputs": [],
   "source": [
    "tf.experimental.numpy.experimental_enable_numpy_behavior()\n",
    "\n",
    "def feature_space_linear_cka_tf(features_x, features_y):\n",
    "    features_x = features_x - tf.math.reduce_mean(features_x, axis=0,keepdims=True)\n",
    "    features_y = features_y - tf.math.reduce_mean(features_y, axis=0,keepdims=True)\n",
    "\n",
    "    product_crossed = tf.matmul(features_x.transpose(), features_y)\n",
    "    dot_product_similarity = tf.linalg.norm(product_crossed) ** 2\n",
    "    gram_x = tf.matmul(features_x.transpose(), features_x)\n",
    "    normalization_x = tf.linalg.norm(gram_x)\n",
    "    gram_y = tf.matmul(features_y.transpose(), features_y)\n",
    "    normalization_y = tf.linalg.norm(gram_y)\n",
    "\n",
    "    return dot_product_similarity / (normalization_x * normalization_y)\n",
    "\n",
    "\n",
    "print(feature_space_linear_cka_tf(sample_features_x, sample_features_y))"
   ]
  },
  {
   "cell_type": "markdown",
   "metadata": {},
   "source": [
    "# Test model"
   ]
  },
  {
   "cell_type": "code",
   "execution_count": null,
   "metadata": {},
   "outputs": [],
   "source": [
    "# path_model = 'pruning_history/model_1_00_unpruned.keras'\n",
    "path_model = 'pruning_history_first_success/model_303_20_add_319.keras'\n",
    "model = tf.keras.models.load_model(path_model).layers[-1]"
   ]
  },
  {
   "cell_type": "code",
   "execution_count": null,
   "metadata": {},
   "outputs": [],
   "source": [
    "(X_train, y_train), (X_test, y_test) = tf.keras.datasets.cifar10.load_data()\n",
    "\n",
    "X_train = X_train.astype('float32') / 255\n",
    "X_test = X_test.astype('float32') / 255\n",
    "\n",
    "X_train_mean = np.mean(X_train, axis=0)\n",
    "X_train -= X_train_mean\n",
    "X_test -= X_train_mean"
   ]
  },
  {
   "cell_type": "code",
   "execution_count": null,
   "metadata": {},
   "outputs": [],
   "source": [
    "y_test_predicted_probs = model.predict(X_test)\n",
    "y_test_predicted = np.argmax(y_test_predicted_probs, axis=1)"
   ]
  },
  {
   "cell_type": "code",
   "execution_count": null,
   "metadata": {},
   "outputs": [],
   "source": [
    "metric = tf.keras.metrics.Accuracy()\n",
    "metric(y_test_predicted, y_test[:,0]).numpy()"
   ]
  },
  {
   "cell_type": "markdown",
   "metadata": {},
   "source": [
    "# Evaluate scores"
   ]
  },
  {
   "cell_type": "code",
   "execution_count": null,
   "metadata": {},
   "outputs": [],
   "source": [
    "from main import CKA\n",
    "import rebuild_layers as rl\n",
    "\n",
    "allowed_layers = rl.blocks_to_prune(model)\n",
    "layer_method = CKA(method='intra_crossed')\n",
    "scores = layer_method.scores(model, X_test, y_test, allowed_layers)"
   ]
  },
  {
   "cell_type": "code",
   "execution_count": null,
   "metadata": {},
   "outputs": [],
   "source": [
    "similarty_scores = np.copy(scores[1])\n",
    "\n",
    "for i in range(len(similarty_scores)):\n",
    "    for j in range(len(similarty_scores)):\n",
    "        similarty_scores[j, i] = similarty_scores[i, j]"
   ]
  },
  {
   "cell_type": "code",
   "execution_count": null,
   "metadata": {},
   "outputs": [],
   "source": [
    "import matplotlib.pyplot as plt\n",
    "\n",
    "plt.imshow(similarty_scores)"
   ]
  },
  {
   "cell_type": "code",
   "execution_count": null,
   "metadata": {},
   "outputs": [],
   "source": [
    "A = similarty_scores\n",
    "mask =  np.tri(A.shape[0], k=-1)\n",
    "mask = np.logical_not(mask)\n",
    "A = np.ma.array(A, mask=mask) # mask out the lower triangle\n",
    "fig = plt.figure()\n",
    "ax1 = fig.add_subplot(111)\n",
    "cmap = plt.cm.get_cmap('viridis', 100) # jet doesn't have white color\n",
    "cmap.set_bad('w') # default value is 'k'\n",
    "ax1.imshow(A, interpolation=\"nearest\", cmap=cmap)\n",
    "plt.show()\n"
   ]
  },
  {
   "cell_type": "markdown",
   "metadata": {},
   "source": [
    "# Comparative plot"
   ]
  },
  {
   "cell_type": "code",
   "execution_count": null,
   "metadata": {},
   "outputs": [],
   "source": [
    "from pathlib import Path\n",
    "dir_models = Path('./pruning_history/')\n",
    "\n",
    "paths_models = [f for f in dir_models.glob('*') if f.suffix == '.keras']\n",
    "paths_models = np.sort(paths_models)\n",
    "n_models = len(paths_models)"
   ]
  },
  {
   "cell_type": "code",
   "execution_count": null,
   "metadata": {},
   "outputs": [],
   "source": [
    "paths_models"
   ]
  },
  {
   "cell_type": "code",
   "execution_count": null,
   "metadata": {},
   "outputs": [],
   "source": [
    "from main import compute_flops\n",
    "\n",
    "flops = np.zeros([n_models])\n",
    "n_param = np.zeros([n_models])\n",
    "accuracies = np.zeros([n_models])\n",
    "\n",
    "get_accuracy = tf.keras.metrics.Accuracy()\n",
    "\n",
    "y_test_expected = y_test[:, 0]\n",
    "\n",
    "for i, path_model in enumerate(paths_models):\n",
    "    \n",
    "    model = tf.keras.models.load_model(str(path_model))\n",
    "    model = model.layers[-1]\n",
    "\n",
    "    flops[i] = compute_flops(model)[0]\n",
    "    \n",
    "    y_test_predicted_probs = model.predict(X_test)\n",
    "    y_test_predicted = np.argmax(y_test_predicted_probs, axis=1)\n",
    "    \n",
    "    accuracies[i] = get_accuracy(y_test_expected, y_test_predicted).numpy()\n"
   ]
  },
  {
   "cell_type": "code",
   "execution_count": null,
   "metadata": {},
   "outputs": [],
   "source": [
    "import matplotlib.pyplot as plt\n",
    "\n",
    "percentual_flop_drop = 1 - flops / flops[0]\n",
    "delta_in_accuracy = accuracies / accuracies[0]\n",
    "\n",
    "plt.plot(percentual_flop_drop, delta_in_accuracy)"
   ]
  }
 ],
 "metadata": {
  "kernelspec": {
   "display_name": "tf215",
   "language": "python",
   "name": "python3"
  },
  "language_info": {
   "codemirror_mode": {
    "name": "ipython",
    "version": 3
   },
   "file_extension": ".py",
   "mimetype": "text/x-python",
   "name": "python",
   "nbconvert_exporter": "python",
   "pygments_lexer": "ipython3",
   "version": "3.9.18"
  }
 },
 "nbformat": 4,
 "nbformat_minor": 2
}
